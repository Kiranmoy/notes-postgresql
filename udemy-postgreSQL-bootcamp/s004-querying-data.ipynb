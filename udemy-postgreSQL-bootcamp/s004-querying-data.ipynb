{
 "cells": [
  {
   "cell_type": "markdown",
   "id": "6e9c9110-75e3-49ae-bc10-33a0ca1555ef",
   "metadata": {},
   "source": [
    "# Select all data from a table"
   ]
  },
  {
   "cell_type": "markdown",
   "id": "39b3cb66-519e-4e8c-a76a-1f32f07328c3",
   "metadata": {},
   "source": [
    "**SYNTAX**: `SELECT * FROM tablename`\n",
    "\n",
    "```postgresql\n",
    "-- 1. Get all records from the movies table\n",
    "\n",
    "SELECT * FROM movies;\n",
    "\n",
    "-- 2. Get all records from the actors table\n",
    "\n",
    "SELECT * FROM actors;\n",
    "\n",
    "```\n",
    "\n",
    "**SQL Keywords are case-insensitive**.\n",
    "* It means that `SELECT` is equivalent to `select` or `Select`.\n",
    "* By convention, we will use all the SQL keywords in uppercase to make the queries easier to read.\n",
    "\n",
    "**Important Note**: PostgreSQL evaluates the `FROM` clause before the `SELECT` clause in the `SELECT` statement.\n",
    "\n",
    "**Is it good practice to use * in `SELECT`?**\n",
    "* No, it's not.\n",
    "* **REASON 1**: Database Performance - Using * in a table with lots of columns might affect database performance.\n",
    "* **REASON 2**: Application Performance - Retrieving unnecessary data from the database increases the traffic between the database server and application server, which will slow down the application performance.\n",
    "* So use * WISELY!!!"
   ]
  },
  {
   "cell_type": "markdown",
   "id": "49eaa0cf-905b-4a9a-98ed-47cb7885035d",
   "metadata": {},
   "source": [
    "# Selecting specific columns/fields from a table"
   ]
  },
  {
   "cell_type": "markdown",
   "id": "dd93a8b5-332a-425c-8ddf-bf807ac69083",
   "metadata": {},
   "source": [
    "**SYNTAX**: `SELECT column1, column2, ..., columnN FROM tablename`\n",
    "\n",
    "```postgresql\n",
    "-- 1. Get first_name from the actors table\n",
    "\n",
    "SELECT first_name FROM actors;\n",
    "\n",
    "-- 2. Get first_name and last_name from the actors table\n",
    "\n",
    "SELECT first_name, last_name FROM actors;\n",
    "\n",
    "```\n",
    "\n",
    "**Important Note**: Using explicit columns/fields is a good practice and produces less load on the server."
   ]
  },
  {
   "cell_type": "markdown",
   "id": "e24b6cfb-9473-4282-af76-2abdba7c6809",
   "metadata": {},
   "source": [
    "# Adding aliases to column names in a table"
   ]
  },
  {
   "cell_type": "markdown",
   "id": "cce38f47-b122-44f5-9dc2-db99d2d2dc4e",
   "metadata": {},
   "source": [
    "**SYNTAX**: `SELECT column AS alias_name FROM tablename`\n",
    "\n",
    "```postgresql\n",
    "\n",
    "SELECT first_name AS firstName FROM actors;\n",
    "\n",
    "SELECT first_name AS \"First Name\" FROM actors;\n",
    "\n",
    "SELECT \n",
    "    movie_name AS \"Movie Name\", \n",
    "    movie_lang AS \"Language\" \n",
    "FROM movies;\n",
    "\n",
    "SELECT \n",
    "    movie_name \"Movie Name\", \n",
    "    movie_lang \"Language\" \n",
    "FROM movies;\n",
    "\n",
    "```\n",
    "\n",
    "**Important Note**: The `AS` keyword is optional."
   ]
  },
  {
   "cell_type": "markdown",
   "id": "12e935e4-1afc-4c24-9c04-7aef9710eaf6",
   "metadata": {},
   "source": [
    "# Assigning column alias to an expression"
   ]
  },
  {
   "cell_type": "markdown",
   "id": "5dbac118-492a-41c9-811b-53fbe08c3368",
   "metadata": {},
   "source": [
    "**SYNTAX**: `SELECT expression AS alias_name FROM tablename`\n",
    "\n",
    "```postgresql\n",
    "\n",
    "SELECT \n",
    "    first_name || ' ' || last_name as \"Full Name\" \n",
    "FROM actors;\n",
    "\n",
    "SELECT 2 * 10 AS result;\n",
    "\n",
    "```"
   ]
  },
  {
   "cell_type": "markdown",
   "id": "d3bba751-9525-439f-8a0b-5c0570e59d36",
   "metadata": {},
   "source": [
    "# Using `ORDER BY` to sort records"
   ]
  },
  {
   "cell_type": "markdown",
   "id": "7038b781-b256-42e1-a5be-e6a6d8663615",
   "metadata": {},
   "source": [
    "**SYNTAX**:\n",
    "```postgresql\n",
    "SELECT\n",
    "    column_list\n",
    "FROM table\n",
    "ORDER BY\n",
    "    sort_expression1 [ASC | DESC],\n",
    "    sort_expression2 [ASC | DESC];\n",
    "```\n",
    "\n",
    "\n",
    "```postgresql\n",
    "-- 1. Sort all movies records by their release_date in ascending order\n",
    "\n",
    "SELECT\n",
    "    *\n",
    "FROM movies\n",
    "ORDER BY\n",
    "    release_date;\n",
    "\n",
    "-- 2. Sort all movies records by their release_date in descending order\n",
    "\n",
    "SELECT\n",
    "    *\n",
    "FROM movies\n",
    "ORDER BY\n",
    "    release_date DESC;\n",
    "\n",
    "-- 3. Sort all movies records by their release_date in descending order, and movie_name in ascending order\n",
    "\n",
    "SELECT\n",
    "    *\n",
    "FROM movies\n",
    "ORDER BY\n",
    "    release_date DESC,\n",
    "    movie_name ASC;\n",
    "\n",
    "```\n",
    "\n",
    "**Notes**: \n",
    "* `ORDER BY` default is `ASC`.\n",
    "* PostgreSQL evaluates the clauses in the `SELECT` statement in the following order: `FROM` > `SELECT` > `ORDER BY`."
   ]
  },
  {
   "cell_type": "markdown",
   "id": "4cc2adce-df73-460d-af56-5791af308bb2",
   "metadata": {},
   "source": [
    "# Using `ORDER BY` with alias column name"
   ]
  },
  {
   "cell_type": "markdown",
   "id": "48650880-58e5-4ba3-ac75-f5c9f3e003b9",
   "metadata": {},
   "source": [
    "```postgresql\n",
    "\n",
    "SELECT \n",
    "    first_name, \n",
    "    last_name AS surname\n",
    "FROM actors\n",
    "ORDER BY surname DESC;\n",
    "```"
   ]
  },
  {
   "cell_type": "markdown",
   "id": "dc331389-d612-44c7-b09f-7912e0aa2137",
   "metadata": {},
   "source": [
    "# Using `ORDER BY` to sort rows by expressions"
   ]
  },
  {
   "cell_type": "markdown",
   "id": "b3639fbb-7830-4678-85bf-b43439c7110b",
   "metadata": {},
   "source": [
    "```postgresql\n",
    "-- 1. Let's calculate the length of the actor's name with the LENGTH function\n",
    "\n",
    "SELECT \n",
    "    first_name, \n",
    "    LENGTH(last_name) AS len\n",
    "FROM actors;\n",
    "\n",
    "-- 2. Let's sort rows by the length of the actor's name in descending order\n",
    "\n",
    "SELECT \n",
    "    first_name, \n",
    "    LENGTH(last_name) AS len\n",
    "FROM actors\n",
    "ORDER BY len DESC;\n",
    "\n",
    "```"
   ]
  },
  {
   "cell_type": "markdown",
   "id": "a0384f8c-547c-4259-9a29-0ed491f57c71",
   "metadata": {},
   "source": [
    "# Using `ORDER BY` with column name or column number"
   ]
  },
  {
   "cell_type": "markdown",
   "id": "c27e7723-538b-48dd-9b95-c6d6763d4498",
   "metadata": {},
   "source": [
    "```postgresql\n",
    "-- 1. Sort all records by first_name ascending, date_of_birth descending\n",
    "\n",
    "SELECT \n",
    "    *\n",
    "FROM actors\n",
    "ORDER BY \n",
    "    first_name ASC,\n",
    "    date_of_birth DESC;\n",
    "\n",
    "-- 2. Sort all records by first_name ascending, date_of_birth descending, using column number, instead of column name\n",
    "\n",
    "SELECT \n",
    "    first_name,\n",
    "    last_name,\n",
    "    date_of_birth\n",
    "FROM actors\n",
    "ORDER BY \n",
    "    1 ASC,\n",
    "    3 DESC;\n",
    "\n",
    "```"
   ]
  },
  {
   "cell_type": "markdown",
   "id": "a550d22f-d353-4325-887b-c8bec96eb5bc",
   "metadata": {},
   "source": [
    "# Using `ORDER BY` with null values"
   ]
  },
  {
   "cell_type": "markdown",
   "id": "e6b2a209-3ff5-4158-afcd-d206643487ca",
   "metadata": {},
   "source": [
    "`NULL` is a marker that indicates:\n",
    "* Either it's a missing data,\n",
    "* Or, the data is unknown.\n",
    "\n",
    "When you sort rows that contain `NULL`, you can specify the order of `NULL` with other non-null values by using the `NULLS FIRST` or `NULLS LAST` option of the ORDER BY clause.\n",
    "\n",
    "**SYNTAX**:\n",
    "```postgresql\n",
    "SELECT\n",
    "    column_list\n",
    "FROM table\n",
    "ORDER BY\n",
    "    sort_expression1 [ASC | DESC] [NULLS FIRST | NULLS LAST],\n",
    "    sort_expression2 [ASC | DESC] [NULLS FIRST | NULLS LAST];\n",
    "    \n",
    "```\n",
    "\n",
    "```postgresql\n",
    "-- 1. `ORDER BY` uses the NULLS LAST option by default\n",
    "\n",
    "SELECT * FROM demo_sorting ORDER BY num ASC;\n",
    "SELECT * FROM demo_sorting ORDER BY num ASC NULLS LAST;\n",
    "\n",
    "SELECT * FROM demo_sorting ORDER BY num DESC;\n",
    "SELECT * FROM demo_sorting ORDER BY num DESC NULLS LAST;\n",
    "\n",
    "-- 2. `ORDER BY` with NULLS FIRST option\n",
    "\n",
    "SELECT * FROM demo_sorting ORDER BY num ASC NULLS FIRST;\n",
    "SELECT * FROM demo_sorting ORDER BY num DESC NULLS FIRST;\n",
    "\n",
    "```"
   ]
  },
  {
   "cell_type": "markdown",
   "id": "3d1d2806-9b24-473e-a82c-4417d40a5b13",
   "metadata": {},
   "source": [
    "# Using `DISTINCT` for selecting distinct values"
   ]
  },
  {
   "cell_type": "markdown",
   "id": "c467d99a-9f58-449d-a08b-a460ee048314",
   "metadata": {},
   "source": [
    "**SYNTAX**: `SELECT DISTINCT column_name FROM tablename`\n",
    "\n",
    "```postgresql\n",
    "\n",
    "-- 1. Get unique movie_lang\n",
    "\n",
    "SELECT \n",
    "    DISTINCT movie_lang\n",
    "FROM movies\n",
    "ORDER BY 1;\n",
    "\n",
    "-- 2. Get multiple distinct combination values, e.g., get unique movie_lang & director_id combination\n",
    "\n",
    "SELECT \n",
    "    DISTINCT director_id, movie_lang\n",
    "FROM movies\n",
    "ORDER BY director_id;\n",
    "\n",
    "-- 3. Get all unique records\n",
    "\n",
    "SELECT \n",
    "    DISTINCT *\n",
    "FROM movies;\n",
    "\n",
    "```"
   ]
  },
  {
   "cell_type": "code",
   "execution_count": null,
   "id": "4c347004-c36f-4851-a8f0-058841ab89c8",
   "metadata": {},
   "outputs": [],
   "source": []
  }
 ],
 "metadata": {
  "kernelspec": {
   "display_name": "Python 3 (ipykernel)",
   "language": "python",
   "name": "python3"
  },
  "language_info": {
   "codemirror_mode": {
    "name": "ipython",
    "version": 3
   },
   "file_extension": ".py",
   "mimetype": "text/x-python",
   "name": "python",
   "nbconvert_exporter": "python",
   "pygments_lexer": "ipython3",
   "version": "3.12.5"
  }
 },
 "nbformat": 4,
 "nbformat_minor": 5
}
