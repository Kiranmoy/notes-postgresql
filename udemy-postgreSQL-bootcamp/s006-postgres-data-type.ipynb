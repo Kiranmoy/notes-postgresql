{
 "cells": [
  {
   "cell_type": "markdown",
   "id": "14df3b41-103b-4ca1-a2b7-9d4b89773e0a",
   "metadata": {},
   "source": [
    "PostgreSQL supports single boolean data type: **BOOLEAN** that can have three values - **TRUE**, **FALSE** & **NULL**.\n",
    "\n",
    "Following are some valid literals for boolean values in PostgreSQL (must be enclosed in a single quotes except for `true` and `false`:\n",
    "\n",
    "| TRUE | FALSE |\n",
    "| -- | -- |\n",
    "| `TRUE` | `FALSE` |\n",
    "| `'true'` | `'false'` |\n",
    "| `'t'` | `'f'` |\n",
    "| `'y'` | `'n'` |\n",
    "| `'yes'` | `'no'` |\n",
    "| `'1'` | `'0'` |\n",
    "\n",
    "**Examples**:\n",
    "\n",
    "```postgresql\n",
    "-- 1. Lets create a sample table called `table_boolean`\n",
    "\n",
    "CREATE TABLE table_boolean(\n",
    "    product_id SERIAL PRIMARY KEY,\n",
    "    is_available BOOLEAN NOT NULL\n",
    ");\n",
    "\n",
    "INSERT INTO table_boolean (is_available) VALUES(TRUE)\n",
    "INSERT INTO table_boolean (is_available) VALUES(FALSE)\n",
    "INSERT INTO table_boolean (is_available) VALUES('true')\n",
    "INSERT INTO table_boolean (is_available) VALUES('false')\n",
    "INSERT INTO table_boolean (is_available) VALUES('t')\n",
    "INSERT INTO table_boolean (is_available) VALUES('f')\n",
    "INSERT INTO table_boolean (is_available) VALUES('y')\n",
    "INSERT INTO table_boolean (is_available) VALUES('n')\n",
    "INSERT INTO table_boolean (is_available) VALUES('yes')\n",
    "INSERT INTO table_boolean (is_available) VALUES('no')\n",
    "INSERT INTO table_boolean (is_available) VALUES('1')\n",
    "INSERT INTO table_boolean (is_available) VALUES('0')\n",
    "\n",
    "SELECT * FROM table_boolean;\n",
    "```"
   ]
  },
  {
   "cell_type": "code",
   "execution_count": null,
   "id": "8f186221-e459-4a6e-b5b8-2eb03b5bfb37",
   "metadata": {},
   "outputs": [],
   "source": []
  }
 ],
 "metadata": {
  "kernelspec": {
   "display_name": "Python 3 (ipykernel)",
   "language": "python",
   "name": "python3"
  },
  "language_info": {
   "codemirror_mode": {
    "name": "ipython",
    "version": 3
   },
   "file_extension": ".py",
   "mimetype": "text/x-python",
   "name": "python",
   "nbconvert_exporter": "python",
   "pygments_lexer": "ipython3",
   "version": "3.12.5"
  }
 },
 "nbformat": 4,
 "nbformat_minor": 5
}
