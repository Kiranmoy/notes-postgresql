{
 "cells": [
  {
   "cell_type": "markdown",
   "id": "76c6296a-b921-4688-b553-be5a71d7b02f",
   "metadata": {},
   "source": [
    "# Operators"
   ]
  },
  {
   "cell_type": "markdown",
   "id": "a1c58d80-0fc4-4b9c-ab17-f44d73f7d90f",
   "metadata": {},
   "source": [
    "Operators are special keywords in SQL that we use in conjunction with SQL clauses to:\n",
    "* Compare the values of fields\n",
    "* Select a subset of fields\n",
    "* Perform arithmetic operations"
   ]
  },
  {
   "cell_type": "markdown",
   "id": "d53cba13-bbaa-4638-a3ff-db60d46ebe28",
   "metadata": {},
   "source": [
    "# Types of Operators"
   ]
  },
  {
   "cell_type": "markdown",
   "id": "9e3f2872-9677-48c3-82f0-fb854182843a",
   "metadata": {},
   "source": [
    "**Comparison Operators**:\n",
    "1. Equal To (`=`)\n",
    "2. Greater Than (`>`)\n",
    "3. Less Than (`<`)\n",
    "4. Greater Than or Equal To (`>=`)\n",
    "5. Less Than or Equal To (`<=`)\n",
    "6. Not Equal To (`<>`)\n",
    "\n",
    "**Logical Operators**:\n",
    "1. AND\n",
    "2. OR\n",
    "3. LIKE\n",
    "4. IN\n",
    "5. BETWEEN\n",
    "\n",
    "**Arithmetic Operators**:\n",
    "1. Addition\n",
    "2. Subtraction\n",
    "3. Division\n",
    "4. Multiply\n",
    "5. Modulo\n"
   ]
  },
  {
   "cell_type": "markdown",
   "id": "0a86b891-b082-4071-9f14-ab2abb369e5e",
   "metadata": {},
   "source": [
    "# `WHERE` Clause"
   ]
  },
  {
   "cell_type": "markdown",
   "id": "388a4448-05dc-430e-b039-c5858f9c98f5",
   "metadata": {},
   "source": [
    "The `WHERE` clause allows us to add specific conditions to our queries.\n",
    "* Using `WHERE`, we can limit the result to only the data that satisfies our condition.\n",
    "* Filter rows in the data by running conditions.\n",
    "* We can use the `WHERE` clause in conjunction with operators (Comparison, Logical, and Arithmetic).\n",
    "\n",
    "> *Note: When using text as criteria in the WHERE clause, the text must be surrounded by SINGLE QUOTES (' '). Otherwise, it will be treated as column_name*\n",
    "\n",
    "**SYNTAX**:\n",
    "```postgresql\n",
    "SELECT \n",
    "    column_list\n",
    "FROM tablename\n",
    "WHERE\n",
    "    conditions;\n",
    "    \n",
    "```\n",
    "\n",
    "**EXAMPLE**:\n",
    "```postgresql\n",
    "-- Get all English language movies\n",
    "\n",
    "SELECT * FROM movies \n",
    "WHERE \n",
    "    movie_lang = 'English';\n",
    "\n",
    "```\n",
    "\n",
    "***Note: If you use the column aliases in the `SELECT` clause, then you cannot use the aliases in the `WHERE` clause.***\n",
    "\n",
    "```postgresql\n",
    "SELECT\n",
    "    first_name,\n",
    "    last_name AS surname\n",
    "FROM actors\n",
    "WHERE\n",
    "    surname = 'Allen'; --ERROR: column \"surname\" does not exist.\n",
    "    \n",
    "```"
   ]
  },
  {
   "cell_type": "markdown",
   "id": "f1445b1b-3355-4fe6-ae3e-71a16d832e1e",
   "metadata": {},
   "source": [
    "# `AND` operator"
   ]
  },
  {
   "cell_type": "markdown",
   "id": "2dabed96-bd9c-485b-bb75-e6e117e5a7ef",
   "metadata": {},
   "source": [
    "```postgresql\n",
    "-- Get all English language movies AND age certificate to 18. \n",
    "\n",
    "SELECT * FROM movies \n",
    "WHERE \n",
    "    movie_lang = 'English'\n",
    "    AND age_certificate = '18';\n",
    "\n",
    "-- Get all English language movies having a director ID equal to 10\n",
    "\n",
    "SELECT * FROM movies \n",
    "WHERE \n",
    "    movie_lang = 'English'\n",
    "    AND director_id = '10';\n",
    "```"
   ]
  },
  {
   "cell_type": "markdown",
   "id": "29f63a5b-5c4c-44a8-b6c6-467a926f8470",
   "metadata": {},
   "source": [
    "# `OR` Operator"
   ]
  },
  {
   "cell_type": "markdown",
   "id": "ec631217-aaf4-47e3-908e-68755910709e",
   "metadata": {},
   "source": [
    "```postgresql\n",
    "-- Get all English Language OR Chinese movies\n",
    "\n",
    "SELECT * FROM movies\n",
    "WHERE\n",
    "    movie_lang = 'English'\n",
    "    OR movie_lang = 'Chinese';\n",
    "\n",
    "```"
   ]
  },
  {
   "cell_type": "markdown",
   "id": "2520c38a-7408-4771-98e9-1c22b464fb22",
   "metadata": {},
   "source": [
    "# Execution Order of `AND`, `OR` operators"
   ]
  },
  {
   "cell_type": "markdown",
   "id": "1fcaf1c0-abff-49aa-a06d-f3b681a22f3a",
   "metadata": {},
   "source": [
    "* The `AND` operator is processed first, and then the `OR` operator is processed next.\n",
    "* SQL processes the `AND` operator like **multiplication** and the `OR` operator like **addition**, unless you include parentheses to specify the **Order of Execution**.\n",
    "* Without parentheses, the `AND` operator will be processed in the same way as `1+2*3 = 7`, but `(1+2)*3 = 9`.\n",
    "* It is ALWAYS better to use parentheses whenever you're using multiple operators so that the **Order of Operation** is clearly defined.\n",
    "\n",
    "**EXAMPLE**:\n",
    "```postgresql\n",
    "-- Get all English Language OR Chinese movies AND movies with age_certification equal to 12\n",
    "\n",
    "SELECT * FROM movies\n",
    "WHERE\n",
    "    movie_lang = 'English'\n",
    "    OR movie_lang = 'Chinese'\n",
    "    AND age_certificate = '12';  \n",
    "    \n",
    "-- But here, you get Chinese movies whose age_certificate is NOT EQUAL TO '12'\n",
    "-- Because, without parentheses, PostgreSQL evaluates the AND operator first, then the OR operator.\n",
    "-- That is, (movie_lang = 'English' AND age_certificate = '12') OR movie_lang = 'Chinese'.\n",
    "-- Hence, we get Chinese movies whose age_certificate is NOT EQUAL TO '12' in the result too.\n",
    "\n",
    "-- With parentheses - The correct way!!!\n",
    "\n",
    "SELECT * FROM movies\n",
    "WHERE\n",
    "    (movie_lang = 'English'\n",
    "    OR movie_lang = 'Chinese')\n",
    "    AND age_certificate = '12';    \n",
    "```\n",
    "\n",
    "> ***Order of Parentheses & Operators matters.***"
   ]
  },
  {
   "cell_type": "markdown",
   "id": "cd4ed470-b4fa-4fea-b01a-98fe8b7969a0",
   "metadata": {},
   "source": [
    "# Order of execution of `WHERE`, `SELECT` & `ORDER BY` clauses"
   ]
  },
  {
   "cell_type": "markdown",
   "id": "393e1875-d5db-45f0-8bef-287603b6a596",
   "metadata": {},
   "source": [
    "**What is the order of execution of the `WHERE` clause?**\n",
    "\n",
    "PostgreSQL evaluates the WHERE clause:\n",
    "* after the `FROM` clause, and\n",
    "* before the `SELECT` and `ORDER BY` clause.\n",
    "\n",
    "That is, **`FROM` > `WHERE` > `SELECT` > `ORDER BY`**.\n",
    "\n",
    "**EXAMPLE**:\n",
    "\n",
    "```postgresql\n",
    "SELECT * FROM movies\n",
    "WHERE\n",
    "    movie_lang = 'English'\n",
    "ORDER BY \n",
    "    movie_length DESC;\n",
    "    \n",
    "```"
   ]
  },
  {
   "cell_type": "markdown",
   "id": "baf5e8f4-f0cc-4bee-957e-edb41f501ebf",
   "metadata": {},
   "source": [
    "# Using Comparison Operators"
   ]
  },
  {
   "cell_type": "markdown",
   "id": "55fe30bb-8f73-48a5-9b9e-7b14ec416f4e",
   "metadata": {},
   "source": [
    "```postgresql\n",
    "-- 1. Get all movies where the movie length is greater than 100\n",
    "SELECT * FROM movies\n",
    "WHERE movie_length > 100;\n",
    "ORDER BY movie_length;\n",
    "\n",
    "-- 2. Get all movies where the movie length is greater than or equal to 100\n",
    "SELECT * FROM movies\n",
    "WHERE movie_length >= 100;\n",
    "ORDER BY movie_length;\n",
    "\n",
    "-- 3. Get all movies where the movie length is less than 100\n",
    "SELECT * FROM movies\n",
    "WHERE movie_length < 100;\n",
    "ORDER BY movie_length;\n",
    "\n",
    "-- 4. Get all movies where the movie length is less than or equal to 100\n",
    "SELECT * FROM movies\n",
    "WHERE movie_length <= 100;\n",
    "ORDER BY movie_length;\n",
    "\n",
    "-- 5. Get all movies which is not in the english language\n",
    "SELECT * FROM movies\n",
    "WHERE movie_lang <> 'English';\n",
    "\n",
    "SELECT * FROM movies\n",
    "WHERE movie_lang != 'English';\n",
    "\n",
    "```\n",
    "\n",
    "**Can we work with date data types?**\n",
    "\n",
    "When querying for dates, it is important first to take a look at how the date is stored in the table that you're querying. That is, `YYY-MM-DD` or `DD-MM-YYYY`, etc.\n",
    "\n",
    "```postgresql\n",
    "-- Get all movies where the release date is greater than 2000\n",
    "\n",
    "SELECT * FROM movies\n",
    "WHERE release_date > '2000-01-01' -- Notice the quotes used for date value and format is YYYY-MM-DD\n",
    "ORDER BY release_date ASC;\n",
    "\n",
    "```"
   ]
  },
  {
   "cell_type": "markdown",
   "id": "71938c98-1615-4a92-b822-04c1ddad4668",
   "metadata": {},
   "source": [
    "# Using `LIMIT` and `OFFSET`"
   ]
  },
  {
   "cell_type": "markdown",
   "id": "5c77303a-7200-4a74-8223-49232eb9fe97",
   "metadata": {},
   "source": [
    "Using LIMIT to limit the number of output records.\n",
    "\n",
    "**SYNTAX**:\n",
    "```postgresql\n",
    "SELECT\n",
    "    column_list\n",
    "FROM tablename\n",
    "ORDER BY columnname\n",
    "LIMIT number;\n",
    "\n",
    "```\n",
    "\n",
    "**EXAMPLE**:\n",
    "```postgresql\n",
    "-- 1. Get the top 5 biggest movies by movie length\n",
    "SELECT * FROM\n",
    "ORDER BY movies_length DESC\n",
    "LIMIT 5;\n",
    "\n",
    "-- 2. Get the top 5 oldest American directors\n",
    "SELECT * FROM directors\n",
    "WHERE nationality = 'American'\n",
    "ORDER BY date_of_birth ASC\n",
    "LIMIT 5;\n",
    "\n",
    "-- 3. Get the top 10 most domestically profitable movies\n",
    "SELECT * FROM movies_revenues\n",
    "ORDER BY revenues_domestic DESC NULLS LAST\n",
    "LIMIT 10;\n",
    "\n",
    "-- 5. List 5 films starting from the fourth one, ordered by movie_id\n",
    "SELECT * FROM movies\n",
    "ORDER BY movie_id DESC NULLS LAST\n",
    "LIMIT 5 OFFSET 4; \n",
    "\n",
    "-- OFFSET is exclusive. \n",
    "-- That is, the number specified with OFFSET is excluded from the result. \n",
    "-- Here are the TOP 5 records from the 5th Records onwards (i.e. OFFSET 4 excludes the first 4 records). \n",
    "\n",
    "```"
   ]
  },
  {
   "cell_type": "markdown",
   "id": "3c40390f-1ba2-473c-a0dc-d1d0b9cdb543",
   "metadata": {},
   "source": [
    "# Using `FETCH` "
   ]
  },
  {
   "cell_type": "markdown",
   "id": "8ea9bab5-5d11-4647-883c-085553dd43e7",
   "metadata": {},
   "source": [
    "* `FETCH` clause is used to retrieve a portion of the rows returned by a query.\n",
    "* `FETCH` clause was introduced in SQL 2008.\n",
    "* `FETCH` clause functionality is equivalent to the LIMIT clause.\n",
    "* It is recommended to use the `FETCH`clause because it follows the standard ANSI SQL.\n",
    "\n",
    "**SYNTAX**:\n",
    "```postgresql\n",
    "FETCH {FIRST | NEXT} {row_count} {ROW | ROWS} ONLY\n",
    "OFFSET start {ROW | ROWS}\n",
    "```\n",
    "\n",
    "The `OFFSET start` is an integer that must be zero or positive.\n",
    "* By default, `start` is 0.\n",
    "* In case the `start` is greater than the number of rows in the result set, no rows are returned.\n",
    "\n",
    "**EXAMPLE**:\n",
    "```postgresql\n",
    "-- 1. Get the first row of the movies table\n",
    "SELECT * FROM movies\n",
    "FETCH FIRST 1 ROW ONLY;\n",
    "\n",
    "-- 2. Get the top 5 biggest movies by movie length\n",
    "SELECT * FROM movies\n",
    "ORDER BY movie_length DESC\n",
    "FETCH FIRST 5 ROWS ONLY;\n",
    "\n",
    "-- 3. Get the top 5 oldest American directors\n",
    "SELECT * FROM directors\n",
    "WHERE nationality = 'American'\n",
    "ORDER BY date_of_birth ASC\n",
    "FETCH FIRST 5 ROWS ONLY;\n",
    "\n",
    "-- 4. Get the first 5 movies from the 5th record onwards by long movie length\n",
    "SELECT * FROM movies\n",
    "ORDER BY movie_length DESC\n",
    "FETCH FIRST 5 ROWS ONLY\n",
    "OFFSET 5;\n",
    "```"
   ]
  },
  {
   "cell_type": "markdown",
   "id": "5bd151d1-e0bd-43dc-ab45-e1e536753ede",
   "metadata": {},
   "source": [
    "# Using `IN` and `NOT IN` operator"
   ]
  },
  {
   "cell_type": "markdown",
   "id": "e74bd099-8d00-42f2-8d51-286c377f5c4c",
   "metadata": {},
   "source": [
    "The `IN` and `NOT IN` operators are used to check if a value matches or does not match in a list.\n",
    "* The `IN` operator returns `true` if a match is found, otherwise returns `false`.\n",
    "* The `NOT IN` operator returns `true` if a match is **NOT** found, otherwise returns `false`.\n",
    "\n",
    "```postgresql\n",
    "-- 1. Get all movies for the English, Chinese, and Japanese languages\n",
    "\n",
    "SELECT * FROM movies\n",
    "WHERE \n",
    "    movie_lang = 'English'\n",
    "    OR movie_lang = 'Chinese'\n",
    "    OR movie_lang = 'Japanese';     -- if we had 10 more criteria, then we would have to write 10 more such conditions. This is where the IN and NOT IN operators make it simpler and easier.\n",
    "ORDER BY movie_lang;\n",
    "\n",
    "-- Using IN Operator\n",
    "\n",
    "SELECT * FROM movies\n",
    "WHERE \n",
    "    movie_lang IN ('English', 'Chinese', 'Japanese')\n",
    "ORDER BY movie_lang;\n",
    "\n",
    "-- Using NOT IN Operator\n",
    "\n",
    "SELECT * FROM movies\n",
    "WHERE \n",
    "    movie_lang NOT IN ('English', 'Chinese', 'Japanese')\n",
    "ORDER BY movie_lang;\n",
    "\n",
    "-- 2. Get all movies where age_certification is 12 and PG type\n",
    "SELECT * FROM movies\n",
    "WHERE \n",
    "    age_certificate IN ('12', 'PG')\n",
    "ORDER BY age_certificate ASC;\n",
    "\n",
    "-- 3. Get all movies where the director ID is not 13 or 10\n",
    "SELECT * FROM movies\n",
    "WHERE \n",
    "    director_id NOT IN (13, 10)\n",
    "ORDER BY director_id ASC;\n",
    "\n",
    "```"
   ]
  },
  {
   "cell_type": "markdown",
   "id": "ae88a535-c915-4a86-adc5-4773d951ef99",
   "metadata": {},
   "source": [
    "# Using `BETWEEN` and `NOT BETWEEN`"
   ]
  },
  {
   "cell_type": "markdown",
   "id": "c55e1f10-da3d-453c-91fb-5b1412c63d8a",
   "metadata": {},
   "source": [
    "The `BETWEEN` operator matches a value against a range of values.\n",
    "\n",
    "**SYNTAX**:\n",
    "```postgresql\n",
    "value BETWEEN low_range and high_range\n",
    "```\n",
    "* If the value is **greater than or equal to** the `low_range` and **less than or equal to** the `high_range`, the expression returns `true`, otherwise, it returns `false`.\n",
    "* Both `low_range` and `high_range` values are **inclusive**.\n",
    "\n",
    "**EXAMPLE**:\n",
    "\n",
    "```postgresql\n",
    "-- 1. Get all actors where birth_date is between 1991 and 1995\n",
    "SELECT * FROM actors\n",
    "WHERE \n",
    "    date_of_birth BETWEEN '1991-01-01' AND '1995-01-01'\n",
    "ORDER BY date_of_birth ASC;\n",
    "\n",
    "-- 2. Get all movies where domestic revenues are between 102.10 and 290.30 (inclusive)\n",
    "SELECT * FROM movies_revenues\n",
    "WHERE\n",
    "    revenues_domestic BETWEEN 102.10 AND 290.30\n",
    "ORDER BY revenues_domestic ASC;\n",
    "\n",
    "-- 3. Get all movies where domestic revenues are NOT between 102.10 and 290.30 (inclusive)\n",
    "SELECT * FROM movies_revenues\n",
    "WHERE\n",
    "    revenues_domestic NOT BETWEEN 102.10 AND 290.30\n",
    "ORDER BY revenues_domestic ASC;\n",
    "\n",
    "```"
   ]
  },
  {
   "cell_type": "code",
   "execution_count": null,
   "id": "5b7dccb6-8bf0-4fa0-af99-41b4b4e8dc3f",
   "metadata": {},
   "outputs": [],
   "source": []
  }
 ],
 "metadata": {
  "kernelspec": {
   "display_name": "Python 3 (ipykernel)",
   "language": "python",
   "name": "python3"
  },
  "language_info": {
   "codemirror_mode": {
    "name": "ipython",
    "version": 3
   },
   "file_extension": ".py",
   "mimetype": "text/x-python",
   "name": "python",
   "nbconvert_exporter": "python",
   "pygments_lexer": "ipython3",
   "version": "3.12.5"
  }
 },
 "nbformat": 4,
 "nbformat_minor": 5
}
