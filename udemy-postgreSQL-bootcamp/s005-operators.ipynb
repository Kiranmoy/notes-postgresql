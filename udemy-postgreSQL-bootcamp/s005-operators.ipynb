{
 "cells": [
  {
   "cell_type": "markdown",
   "id": "76c6296a-b921-4688-b553-be5a71d7b02f",
   "metadata": {},
   "source": [
    "# Operators"
   ]
  },
  {
   "cell_type": "markdown",
   "id": "a1c58d80-0fc4-4b9c-ab17-f44d73f7d90f",
   "metadata": {},
   "source": [
    "Operators are special keywords in SQL that we use in conjunction with SQL clauses to:\n",
    "* Compare the values of fields\n",
    "* Select a subset of fields\n",
    "* Perform arithmetic operations"
   ]
  },
  {
   "cell_type": "markdown",
   "id": "d53cba13-bbaa-4638-a3ff-db60d46ebe28",
   "metadata": {},
   "source": [
    "# Types of Operators"
   ]
  },
  {
   "cell_type": "markdown",
   "id": "9e3f2872-9677-48c3-82f0-fb854182843a",
   "metadata": {},
   "source": [
    "**Comparison Operators**:\n",
    "1. Equal To (`=`)\n",
    "2. Greater Than (`>`)\n",
    "3. Less Than (`<`)\n",
    "4. Greater Than or Equal To (`>=`)\n",
    "5. Less Than or Equal To (`<=`)\n",
    "6. Not Equal To (`<>`)\n",
    "\n",
    "**Logical Operators**:\n",
    "1. AND\n",
    "2. OR\n",
    "3. LIKE\n",
    "4. IN\n",
    "5. BETWEEN\n",
    "\n",
    "**Arithmetic Operators**:\n",
    "1. Addition\n",
    "2. Subtraction\n",
    "3. Division\n",
    "4. Multiply\n",
    "5. Modulo\n"
   ]
  },
  {
   "cell_type": "markdown",
   "id": "0a86b891-b082-4071-9f14-ab2abb369e5e",
   "metadata": {},
   "source": [
    "# `WHERE` Clause"
   ]
  },
  {
   "cell_type": "markdown",
   "id": "388a4448-05dc-430e-b039-c5858f9c98f5",
   "metadata": {},
   "source": [
    "The `WHERE` clause allows us to add specific conditions to our queries.\n",
    "* Using `WHERE`, we can limit the result to only the data that satisfies our condition.\n",
    "* Filter rows in the data by running conditions.\n",
    "* We can use the `WHERE` clause in conjunction with operators (Comparison, Logical, and Arithmetic).\n",
    "\n",
    "> *Note: When using text as criteria in the WHERE clause, the text must be surrounded by SINGLE QUOTES (' '). Otherwise, it will be treated as column_name*\n",
    "\n",
    "**SYNTAX**:\n",
    "```postgresql\n",
    "SELECT \n",
    "    column_list\n",
    "FROM tablename\n",
    "WHERE\n",
    "    conditions;\n",
    "    \n",
    "```\n",
    "\n",
    "**EXAMPLE**:\n",
    "```postgresql\n",
    "-- Get all English language movies\n",
    "\n",
    "SELECT * FROM movies \n",
    "WHERE \n",
    "    movie_lang = 'English';\n",
    "\n",
    "```\n",
    "\n",
    "***Note: If you use the column aliases in the `SELECT` clause, then you cannot use the aliases in the `WHERE` clause.***\n",
    "\n",
    "```postgresql\n",
    "SELECT\n",
    "    first_name,\n",
    "    last_name AS surname\n",
    "FROM actors\n",
    "WHERE\n",
    "    surname = 'Allen'; --ERROR: column \"surname\" does not exist.\n",
    "    \n",
    "```"
   ]
  },
  {
   "cell_type": "markdown",
   "id": "f1445b1b-3355-4fe6-ae3e-71a16d832e1e",
   "metadata": {},
   "source": [
    "# `AND` operator"
   ]
  },
  {
   "cell_type": "markdown",
   "id": "2dabed96-bd9c-485b-bb75-e6e117e5a7ef",
   "metadata": {},
   "source": [
    "```postgresql\n",
    "-- Get all English language movies AND age certificate to 18. \n",
    "\n",
    "SELECT * FROM movies \n",
    "WHERE \n",
    "    movie_lang = 'English'\n",
    "    AND age_certificate = '18';\n",
    "\n",
    "-- Get all English language movies having a director ID equal to 10\n",
    "\n",
    "SELECT * FROM movies \n",
    "WHERE \n",
    "    movie_lang = 'English'\n",
    "    AND director_id = '10';\n",
    "```"
   ]
  },
  {
   "cell_type": "markdown",
   "id": "29f63a5b-5c4c-44a8-b6c6-467a926f8470",
   "metadata": {},
   "source": [
    "# `OR` Operator"
   ]
  },
  {
   "cell_type": "markdown",
   "id": "ec631217-aaf4-47e3-908e-68755910709e",
   "metadata": {},
   "source": [
    "```postgresql\n",
    "-- Get all English Language OR Chinese movies\n",
    "\n",
    "SELECT * FROM movies\n",
    "WHERE\n",
    "    movie_lang = 'English'\n",
    "    OR movie_lang = 'Chinese';\n",
    "\n",
    "```"
   ]
  },
  {
   "cell_type": "markdown",
   "id": "2520c38a-7408-4771-98e9-1c22b464fb22",
   "metadata": {},
   "source": [
    "# Execution Order of `AND`, `OR` operators"
   ]
  },
  {
   "cell_type": "markdown",
   "id": "1fcaf1c0-abff-49aa-a06d-f3b681a22f3a",
   "metadata": {},
   "source": [
    "* The `AND` operator is processed first, and then the `OR` operator is processed next.\n",
    "* SQL processes the `AND` operator like **multiplication** and the `OR` operator like **addition**, unless you include parentheses to specify the **Order of Execution**.\n",
    "* Without parentheses, the `AND` operator will be processed in the same way as `1+2*3 = 7`, but `(1+2)*3 = 9`.\n",
    "* It is ALWAYS better to use parentheses whenever you're using multiple operators so that the **Order of Operation** is clearly defined.\n",
    "\n",
    "**EXAMPLE**:\n",
    "```postgresql\n",
    "-- Get all English Language OR Chinese movies AND movies with age_certification equal to 12\n",
    "\n",
    "SELECT * FROM movies\n",
    "WHERE\n",
    "    movie_lang = 'English'\n",
    "    OR movie_lang = 'Chinese'\n",
    "    AND age_certificate = '12';  \n",
    "    \n",
    "-- But here, you get Chinese movies whose age_certificate is NOT EQUAL TO '12'\n",
    "-- Because, without parentheses, PostgreSQL evaluates the AND operator first, then the OR operator.\n",
    "-- That is, (movie_lang = 'English' AND age_certificate = '12') OR movie_lang = 'Chinese'.\n",
    "-- Hence, we get Chinese movies whose age_certificate is NOT EQUAL TO '12' in the result too.\n",
    "\n",
    "-- With parentheses - The correct way!!!\n",
    "\n",
    "SELECT * FROM movies\n",
    "WHERE\n",
    "    (movie_lang = 'English'\n",
    "    OR movie_lang = 'Chinese')\n",
    "    AND age_certificate = '12';    \n",
    "```\n",
    "\n",
    "> ***Order of Parentheses & Operators matters.***"
   ]
  },
  {
   "cell_type": "markdown",
   "id": "cd4ed470-b4fa-4fea-b01a-98fe8b7969a0",
   "metadata": {},
   "source": [
    "# Order of execution of `WHERE`, `SELECT` & `ORDER BY` clauses"
   ]
  },
  {
   "cell_type": "markdown",
   "id": "393e1875-d5db-45f0-8bef-287603b6a596",
   "metadata": {},
   "source": [
    "**What is the order of execution of the `WHERE` clause?**\n",
    "\n",
    "PostgreSQL evaluates the WHERE clause:\n",
    "* after the `FROM` clause, and\n",
    "* before the `SELECT` and `ORDER BY` clause.\n",
    "\n",
    "That is, **`FROM` > `WHERE` > `SELECT` > `ORDER BY`**.\n",
    "\n",
    "**EXAMPLE**:\n",
    "\n",
    "```postgresql\n",
    "SELECT * FROM movies\n",
    "WHERE\n",
    "    movie_lang = 'English'\n",
    "ORDER BY \n",
    "    movie_length DESC;\n",
    "    \n",
    "```"
   ]
  },
  {
   "cell_type": "markdown",
   "id": "baf5e8f4-f0cc-4bee-957e-edb41f501ebf",
   "metadata": {},
   "source": [
    "# Using Comparison Operators"
   ]
  },
  {
   "cell_type": "markdown",
   "id": "55fe30bb-8f73-48a5-9b9e-7b14ec416f4e",
   "metadata": {},
   "source": [
    "```postgresql\n",
    "-- 1. Get all movies where the movie length is greater than 100\n",
    "SELECT * FROM movies\n",
    "WHERE movie_length > 100;\n",
    "ORDER BY movie_length;\n",
    "\n",
    "-- 2. Get all movies where the movie length is greater than or equal to 100\n",
    "SELECT * FROM movies\n",
    "WHERE movie_length >= 100;\n",
    "ORDER BY movie_length;\n",
    "\n",
    "-- 3. Get all movies where the movie length is less than 100\n",
    "SELECT * FROM movies\n",
    "WHERE movie_length < 100;\n",
    "ORDER BY movie_length;\n",
    "\n",
    "-- 4. Get all movies where the movie length is less than or equal to 100\n",
    "SELECT * FROM movies\n",
    "WHERE movie_length <= 100;\n",
    "ORDER BY movie_length;\n",
    "\n",
    "-- 5. Get all movies which is not in the english language\n",
    "SELECT * FROM movies\n",
    "WHERE movie_lang <> 'English';\n",
    "\n",
    "SELECT * FROM movies\n",
    "WHERE movie_lang != 'English';\n",
    "\n",
    "```\n",
    "\n",
    "**Can we work with date data types?**\n",
    "\n",
    "When querying for dates, it is important first to take a look at how the date is stored in the table that you're querying. That is, `YYY-MM-DD` or `DD-MM-YYYY`, etc.\n",
    "\n",
    "```postgresql\n",
    "-- Get all movies where the release date is greater than 2000\n",
    "\n",
    "SELECT * FROM movies\n",
    "WHERE release_date > '2000-01-01' -- Notice the quotes used for date value and format is YYYY-MM-DD\n",
    "ORDER BY release_date ASC;\n",
    "\n",
    "```"
   ]
  },
  {
   "cell_type": "code",
   "execution_count": null,
   "id": "f6d08ec1-d293-4c33-a124-99e5d89d28b5",
   "metadata": {},
   "outputs": [],
   "source": []
  }
 ],
 "metadata": {
  "kernelspec": {
   "display_name": "Python 3 (ipykernel)",
   "language": "python",
   "name": "python3"
  },
  "language_info": {
   "codemirror_mode": {
    "name": "ipython",
    "version": 3
   },
   "file_extension": ".py",
   "mimetype": "text/x-python",
   "name": "python",
   "nbconvert_exporter": "python",
   "pygments_lexer": "ipython3",
   "version": "3.12.5"
  }
 },
 "nbformat": 4,
 "nbformat_minor": 5
}
