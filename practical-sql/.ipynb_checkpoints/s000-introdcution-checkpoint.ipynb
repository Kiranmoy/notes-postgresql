{
 "cells": [
  {
   "cell_type": "markdown",
   "id": "cdb36305-b4ee-44a0-8b0a-cbbef3ad6396",
   "metadata": {},
   "source": [
    "**Chapter 1: Setting Up Your Coding Environment** walks through setting up PostgreSQL, the pgAdmin user interface, and a text editor, plus how to download example code and data.\n",
    "\n",
    "**Chapter 2: Creating Your First Database and Table** provides step-by-step instructions for the process of loading a simple dataset about teachers into a new database.\n",
    "\n",
    "**Chapter 3: Beginning Data Exploration with SELECT** explores basic SQL query syntax, including how to sort and filter data.\n",
    "\n",
    "**Chapter 4: Understanding Data Types** explains the definitions for setting columns in a table to hold specific types of data, from text to dates to various forms of numbers.\n",
    "\n",
    "**Chapter 5: Importing and Exporting Data** explains how to use SQL commands to load data from external files and then export it. You’ll load a table of US Census population data that you’ll use throughout the book.\n",
    "\n",
    "**Chapter 6: Basic Math and Stats with SQL** covers arithmetic operations and introduces aggregate functions for finding sums, averages, and medians.\n",
    "\n",
    "**Chapter 7: Joining Tables in a Relational Database** explains how to query multiple, related tables by joining them on key columns. You’ll learn how and when to use different types of joins.\n",
    "\n",
    "**Chapter 8: Table Design that Works for You** covers how to set up tables to improve the organization and integrity of your data as well as how to speed up queries using indexes.\n",
    "\n",
    "**Chapter 9: Extracting Information by Grouping and Summarizing** explains how to use aggregate functions to find trends in US library usage based on annual surveys.\n",
    "\n",
    "**Chapter 10: Inspecting and Modifying Data** explores how to find and fix incomplete or inaccurate data using a collection of records about meat, egg, and poultry producers as an example.\n",
    "\n",
    "**Chapter 11: Statistical Functions in SQL** introduces correlation, regression, ranking, and other functions to help you derive more meaning from datasets.\n",
    "\n",
    "**Chapter 12: Working with Dates and Times** explains how to create, manipulate, and query dates and times in your database, including working with time zones and with data about New York City taxi trips and Amtrak train schedules.\n",
    "\n",
    "**Chapter 13: Advanced Query Techniques** explains how to use more complex SQL operations such as subqueries and cross-tabulations, plus the CASE statement, to reclassify values in a dataset on temperature readings.\n",
    "\n",
    "**Chapter 14: Mining Text to Find Meaningful Data** covers how to use PostgreSQL’s full-text search engine and regular expressions to extract data from unstructured text, using police reports and a collection of speeches by US presidents as examples.\n",
    "\n",
    "**Chapter 15: Analyzing Spatial Data with PostGIS** introduces data types and queries related to spatial objects, which will let you analyze geographical features such as counties, roads, and rivers.\n",
    "\n",
    "**Chapter 16: Working with JSON Data** introduces the JavaScript Object Notation (JSON) data format and uses data about movies and earthquakes to explore PostgreSQL JSON support.\n",
    "\n",
    "**Chapter 17: Saving Time with Views, Functions, and Triggers** explains how to automate database tasks so you can avoid repeating routine work.\n",
    "\n",
    "**Chapter 18: Using PostgreSQL from the Command Line** covers how to use text commands at your computer’s command prompt to connect to your database and run queries.\n",
    "\n",
    "**Chapter 19: Maintaining Your Database** provides tips and procedures for tracking the size of your database, customizing settings, and backing up data.\n",
    "\n",
    "**Chapter 20: Telling Your Data’s Story** provides guidelines for generating ideas for analysis, vetting data, drawing sound conclusions, and presenting your findings clearly.\n",
    "\n",
    "**Appendix: Additional PostgreSQL Resources** lists software and documentation to help you grow your skills.\n",
    "\n"
   ]
  },
  {
   "cell_type": "code",
   "execution_count": null,
   "id": "5d10f7a9-dadf-477a-a86c-7a4241e2c70e",
   "metadata": {},
   "outputs": [],
   "source": []
  }
 ],
 "metadata": {
  "kernelspec": {
   "display_name": "Python 3 (ipykernel)",
   "language": "python",
   "name": "python3"
  },
  "language_info": {
   "codemirror_mode": {
    "name": "ipython",
    "version": 3
   },
   "file_extension": ".py",
   "mimetype": "text/x-python",
   "name": "python",
   "nbconvert_exporter": "python",
   "pygments_lexer": "ipython3",
   "version": "3.12.5"
  }
 },
 "nbformat": 4,
 "nbformat_minor": 5
}
