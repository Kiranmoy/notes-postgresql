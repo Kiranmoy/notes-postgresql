{
 "cells": [
  {
   "cell_type": "markdown",
   "id": "00130b57-c665-4741-b094-77e43ba4ff99",
   "metadata": {},
   "source": [
    "# `customers` table"
   ]
  },
  {
   "cell_type": "markdown",
   "id": "3d06db8d-c306-4324-8414-c2c18f8d74d0",
   "metadata": {},
   "source": [
    "```postgresql\n",
    "CREATE TABLE customers (\n",
    "\tcustomer_id SERIAL PRIMARY KEY,\n",
    "\tfirst_name VARCHAR(50),\n",
    "\tlast_name VARCHAR(50),\n",
    "\temail VARCHAR(150),\n",
    "\tage INT\n",
    ");\n",
    "\n",
    "SELECT * FROM customers;\n",
    "```"
   ]
  },
  {
   "cell_type": "markdown",
   "id": "25faf615-ffa4-437a-9e79-0129a743735f",
   "metadata": {},
   "source": [
    "# Insert single row (record) into `customers` table"
   ]
  },
  {
   "cell_type": "markdown",
   "id": "6ed5e994-3baf-458c-95bb-2792596b4c3a",
   "metadata": {},
   "source": [
    "```postgresql\n",
    "INSERT INTO customers (first_name, last_name, email, age)\n",
    "VALUES ('Adnan','Waheed','a@b.com',40);\n",
    "\n",
    "```"
   ]
  },
  {
   "cell_type": "markdown",
   "id": "f02bfa32-031b-428d-b680-d0e3a9b50cfd",
   "metadata": {},
   "source": [
    "# Insert multiple row (record) into `customers` table"
   ]
  },
  {
   "cell_type": "markdown",
   "id": "e221408b-6b3f-4d85-8fdc-88e174b3a90e",
   "metadata": {},
   "source": [
    "```postgresql\n",
    "INSERT INTO customers (first_name, last_name)\n",
    "VALUES \n",
    "('ADNAN','WAHEED'),\n",
    "('JOHN','ADAMS'),\n",
    "('LINDA','ABE');\n",
    "\n",
    "SELECT * FROM customers;\n",
    "```"
   ]
  },
  {
   "cell_type": "markdown",
   "id": "605939f5-d5e4-498d-98d8-31357365e471",
   "metadata": {},
   "source": [
    "# Insert data that has quote"
   ]
  },
  {
   "cell_type": "markdown",
   "id": "2cf27c0d-8dd8-4b0f-af5d-7b4b7e7d48e6",
   "metadata": {},
   "source": [
    "```postgresql\n",
    "INSERT INTO customers (first_name)\n",
    "VALUES \n",
    "('Bill''O Sullivan');\n",
    "\n",
    "SELECT * FROM customers;\n",
    "  \n",
    "```"
   ]
  },
  {
   "cell_type": "markdown",
   "id": "f280f23a-642d-4236-9bfa-064279dd1efe",
   "metadata": {},
   "source": [
    "# Use RETURNING to get info on added rows"
   ]
  },
  {
   "cell_type": "markdown",
   "id": "5aaf15bf-da00-4ed7-94c7-a8229ce5db4a",
   "metadata": {},
   "source": [
    "```postgresql\n",
    "INSERT INTO customers (first_name)\n",
    "VALUES ('ADAM');\n",
    "\n",
    "INSERT INTO customers (first_name)\n",
    "VALUES ('JOSEPH') RETURNING *;\n",
    "\n",
    "INSERT INTO customers (first_name)\n",
    "VALUES ('JOSEPH1') RETURNING customer_id;\n",
    "\n",
    "SELECT * FROM customers;\n",
    "\n",
    "```"
   ]
  },
  {
   "cell_type": "markdown",
   "id": "7cf6f50c-e5b6-4d7b-bf5d-f6f305b17935",
   "metadata": {},
   "source": [
    "# Update single column"
   ]
  },
  {
   "cell_type": "markdown",
   "id": "22d312bf-7768-4d91-84ef-987bfbe3bcef",
   "metadata": {},
   "source": [
    "```postgresql\n",
    "UPDATE customers\n",
    "SET email = 'a2@b.com'\n",
    "WHERE customer_id = 1;\n",
    "\n",
    "```"
   ]
  },
  {
   "cell_type": "markdown",
   "id": "429e16a2-965d-4cff-aed4-cf1571ab50bf",
   "metadata": {},
   "source": [
    "# Update multiple column"
   ]
  },
  {
   "cell_type": "markdown",
   "id": "2f845f94-19e4-40e2-9c29-639d0c917d55",
   "metadata": {},
   "source": [
    "```postgresql\n",
    "UPDATE customers\n",
    "SET \n",
    "email = 'a2@b.com',\n",
    "age = 30\n",
    "WHERE customer_id = 1;\n",
    "\n",
    "```"
   ]
  },
  {
   "cell_type": "markdown",
   "id": "91239d43-777a-4572-a24a-7a3daf37428f",
   "metadata": {},
   "source": [
    "# Use RETURNING to get updated row info"
   ]
  },
  {
   "cell_type": "markdown",
   "id": "2666bab0-48b0-4d15-baa4-919575af0bb0",
   "metadata": {},
   "source": [
    "```postgresql\n",
    "UPDATE customers\n",
    "SET email = 'a2@b.com'\n",
    "WHERE customer_id = 1\n",
    "REETURNING *;\n",
    "\n",
    "```"
   ]
  },
  {
   "cell_type": "markdown",
   "id": "48a6e3ef-3513-482e-bc59-e2e3c57bb2b6",
   "metadata": {},
   "source": [
    "# Update all records in a table"
   ]
  },
  {
   "cell_type": "markdown",
   "id": "10590277-ff2e-4610-8dd5-fd5a12cce005",
   "metadata": {},
   "source": [
    "```postgresql\n",
    "UPDATE customers\n",
    "SET is_enable = 1;\n",
    "\n",
    "```"
   ]
  },
  {
   "cell_type": "markdown",
   "id": "0ec55247-95d1-4e81-a0ce-651a0f27a383",
   "metadata": {},
   "source": [
    "# Delete specific records from a table"
   ]
  },
  {
   "cell_type": "markdown",
   "id": "7f6e5df1-9dda-4388-b645-0f2b247bd23b",
   "metadata": {},
   "source": [
    "```postgresql\n",
    "DELETE FROM customers \n",
    "WHERE customer_id = 9;\n",
    "\n",
    "```"
   ]
  },
  {
   "cell_type": "markdown",
   "id": "def956b5-a719-423a-8403-84d90219032c",
   "metadata": {},
   "source": [
    "# # Delete all records from a table"
   ]
  },
  {
   "cell_type": "markdown",
   "id": "bf189e14-4c82-4ff4-b889-d638fead781e",
   "metadata": {},
   "source": [
    "```postgresql\n",
    "DELETE FROM customers;\n",
    "\n",
    "```"
   ]
  },
  {
   "cell_type": "markdown",
   "id": "cd48e146-7aa0-46e3-970a-3400176cf054",
   "metadata": {},
   "source": [
    "# Using UPSERT"
   ]
  },
  {
   "cell_type": "markdown",
   "id": "e4a239b3-ec81-49f7-94f1-28edbbbc00b8",
   "metadata": {},
   "source": [
    "The idea is that when you insert a new row into the table:\n",
    "* PostgreSQL will update the row if it already exists,\n",
    "* Else PostgreSQL will insert a new row, if it doesn't exist.\n",
    "\n",
    "That is why we call the action `UPSERT` (combination of update & insert).\n",
    "\n",
    "**Syntax**:\n",
    "\n",
    "```postgresql\n",
    "INSERT INTO table_name (column_list)\n",
    "VALUES (value_list)\n",
    "ON CONFLICT target action;\n",
    "\n",
    "```\n",
    "\n",
    "For `ON CONFLICT`, we can use the following actions:\n",
    "* **DO NOTHING**                 >> equivalent to `INSERT INTO ... IF NOT EXIST`\n",
    "* **DO UPDATE SET column_1 = value_1 `[WHERE condition]`**\n",
    "\n",
    "\n",
    "\n",
    "**Example**:\n",
    "\n",
    "```postgresql\n",
    "-- create sample table\n",
    "\n",
    "CREATE TABLE t_tags( \n",
    "\tid serial PRIMARY KEY,\n",
    "\ttag text UNIQUE,\n",
    "\tupdate_date TIMESTAMP DEFAULT NOW()\t\n",
    ");\n",
    "\n",
    "-- insert some sample data\n",
    "\n",
    "INSERT INTO t_tags (tag) values\n",
    "('Pen'),\n",
    "('Pencil');\n",
    "\n",
    "-- Lets view the data\n",
    "\n",
    "SELECT * FROM t_tags;\n",
    "\n",
    "-- 2020-12-29 19:13:19.392095\n",
    "\n",
    "-- Lets insert a record, on conflict do noting\n",
    "\n",
    "INSERT INTO t_tags (tag) \n",
    "VALUES ('Pen')\n",
    "ON CONFLICT (tag) \n",
    "DO \n",
    "\tNOTHING;\n",
    "\n",
    "\n",
    "SELECT * FROM t_tags;\n",
    "\n",
    "\n",
    "\n",
    "-- Lets insert a record, on conflict set new values\n",
    "\n",
    "INSERT INTO t_tags (tag) \n",
    "VALUES ('Pen')\n",
    "ON CONFLICT (tag) \n",
    "DO \n",
    "\tUPDATE SET\n",
    "\t\ttag = EXCLUDED.tag || '1',\n",
    "\t\tupdate_date = NOW();\n",
    "\n",
    "```"
   ]
  },
  {
   "cell_type": "code",
   "execution_count": null,
   "id": "775a4f1e-2cde-40c5-bee5-4e7d44b88f33",
   "metadata": {},
   "outputs": [],
   "source": []
  }
 ],
 "metadata": {
  "kernelspec": {
   "display_name": "Python 3 (ipykernel)",
   "language": "python",
   "name": "python3"
  },
  "language_info": {
   "codemirror_mode": {
    "name": "ipython",
    "version": 3
   },
   "file_extension": ".py",
   "mimetype": "text/x-python",
   "name": "python",
   "nbconvert_exporter": "python",
   "pygments_lexer": "ipython3",
   "version": "3.12.5"
  }
 },
 "nbformat": 4,
 "nbformat_minor": 5
}
