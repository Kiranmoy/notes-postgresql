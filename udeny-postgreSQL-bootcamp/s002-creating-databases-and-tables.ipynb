{
 "cells": [
  {
   "cell_type": "markdown",
   "id": "dae36ead-e852-4540-b9ee-24976baac32e",
   "metadata": {},
   "source": [
    "# Create Movie Database"
   ]
  },
  {
   "cell_type": "code",
   "execution_count": null,
   "id": "bfb59625-54cd-441e-b973-8a09b402bc38",
   "metadata": {},
   "outputs": [],
   "source": []
  }
 ],
 "metadata": {
  "kernelspec": {
   "display_name": "Python 3 (ipykernel)",
   "language": "python",
   "name": "python3"
  },
  "language_info": {
   "codemirror_mode": {
    "name": "ipython",
    "version": 3
   },
   "file_extension": ".py",
   "mimetype": "text/x-python",
   "name": "python",
   "nbconvert_exporter": "python",
   "pygments_lexer": "ipython3",
   "version": "3.12.5"
  }
 },
 "nbformat": 4,
 "nbformat_minor": 5
}
