{
 "cells": [
  {
   "cell_type": "markdown",
   "id": "dae36ead-e852-4540-b9ee-24976baac32e",
   "metadata": {},
   "source": [
    "# Create `movies` Database"
   ]
  },
  {
   "cell_type": "markdown",
   "id": "595bd726-c7d3-4469-9af6-01f48d4fec54",
   "metadata": {},
   "source": [
    "```postgresql\n",
    "CREATE DATABASE movies\n",
    "    WITH\n",
    "    OWNER = kiranmoy\n",
    "    ENCODING = 'UTF8'\n",
    "    LOCALE_PROVIDER = 'libc'\n",
    "    CONNECTION LIMIT = -1\n",
    "    IS_TEMPLATE = False;\n",
    "```"
   ]
  },
  {
   "cell_type": "markdown",
   "id": "8005149a-5175-4cee-98d6-d48c51f20919",
   "metadata": {},
   "source": [
    "# Create `actors` table"
   ]
  },
  {
   "cell_type": "markdown",
   "id": "834ac082-5079-4af1-8ad7-45ceba2ff8b9",
   "metadata": {},
   "source": [
    "```postgresql\n",
    "CREATE TABLE actors (\n",
    "\tactor_id SERIAL PRIMARY KEY,\n",
    "\tfirst_name VARCHAR(150),\n",
    "\tlast_name VARCHAR(150) NOT NULL,\n",
    "\tgender CHAR(1),\n",
    "\tdate_of_birth DATE,\n",
    "\tadd_date DATE,\n",
    "\tupdate_date DATE\n",
    ");\n",
    "```"
   ]
  },
  {
   "cell_type": "markdown",
   "id": "be268f3e-340b-45bf-84db-f8a9b3fe0d39",
   "metadata": {},
   "source": [
    "# Create `directors` table"
   ]
  },
  {
   "cell_type": "markdown",
   "id": "250d2861-5cf5-4d64-a968-4f53781d248d",
   "metadata": {},
   "source": [
    "```postgresql\n",
    "CREATE TABLE directors (\n",
    "\tdirector_id SERIAL PRIMARY KEY,\n",
    "\tfirst_name VARCHAR(150),\n",
    "\tlast_name VARCHAR(150) NOT NULL,\n",
    "\tdate_of_birth DATE,\n",
    "\tnationality VARCHAR(20),\n",
    "\tadd_date DATE,\n",
    "\tupdate_date DATE\n",
    ");\n",
    "```"
   ]
  },
  {
   "cell_type": "markdown",
   "id": "a6ec1757-c428-40f1-a8d4-afb7110f1f65",
   "metadata": {},
   "source": [
    "# Create `movies` table"
   ]
  },
  {
   "cell_type": "markdown",
   "id": "81c627a8-b2ea-4fb8-92f5-2eed561eea46",
   "metadata": {},
   "source": [
    "```postgresql\n",
    "CREATE TABLE movies (\n",
    "\tmovie_id SERIAL PRIMARY KEY,\n",
    "\tmovie_name VARCHAR(100) NOT NULL,\n",
    "\tmovie_length INT,\n",
    "\tmovie_lang VARCHAR(20),\n",
    "\tage_certificate VARCHAR(10),\n",
    "\trelease_date DATE,\n",
    "\tdirector_id INT REFERENCES directors (director_id)\n",
    ");\n",
    "```"
   ]
  },
  {
   "cell_type": "markdown",
   "id": "5e1e08c8-744e-4dee-b9e4-911581a12e11",
   "metadata": {},
   "source": [
    "# Create `movies_revenues` table"
   ]
  },
  {
   "cell_type": "markdown",
   "id": "c395ce59-012b-4a34-9f91-e892159bb85a",
   "metadata": {},
   "source": [
    "```postgresql\n",
    "CREATE TABLE movies_revenues (\n",
    "\trevenue_id SERIAL PRIMARY KEY,\n",
    "\tmovie_id INT REFERENCES movies (movie_id),\n",
    "\trevenues_domestic NUMERIC (10,2),\n",
    "\trevenues_international NUMERIC (10,2)\n",
    ");\n",
    "```"
   ]
  },
  {
   "cell_type": "markdown",
   "id": "73f5791f-041f-44d7-969e-56963c68f27e",
   "metadata": {},
   "source": [
    "# Create `movies_actors` junction table"
   ]
  },
  {
   "cell_type": "markdown",
   "id": "50fb5a3d-d2e6-4ac3-b45a-21f2459951dd",
   "metadata": {},
   "source": [
    "```postgresql\n",
    "CREATE TABLE movies_actors (\n",
    "\tmovie_id INT REFERENCES movies (movie_id),\n",
    "\tactor_id INT REFERENCES actors (actor_id),\n",
    "\tPRIMARY KEY (movie_id, actor_id)\n",
    ");\n",
    "```"
   ]
  },
  {
   "cell_type": "markdown",
   "id": "2c4df6c0-8ca9-4318-8f71-dd2a92a5596f",
   "metadata": {},
   "source": [
    "# Alter Table Column"
   ]
  },
  {
   "cell_type": "markdown",
   "id": "96e070f6-36a5-4220-a4ee-f9448aeeca48",
   "metadata": {},
   "source": [
    "```postgresql\n",
    "ALTER TABLE IF EXISTS public.accounts\n",
    "    ALTER COLUMN is_enable SET DEFAULT 'Y';\n",
    "\n",
    "ALTER TABLE IF EXISTS public.accounts\n",
    "    ALTER COLUMN is_enable SET NOT NULL;\n",
    "```"
   ]
  },
  {
   "cell_type": "markdown",
   "id": "66a5fe57-2ac9-43f7-a350-e50a01e2e28d",
   "metadata": {},
   "source": [
    "# Delete Table"
   ]
  },
  {
   "cell_type": "markdown",
   "id": "86de1c94-61bd-46dc-be2b-086b683dc714",
   "metadata": {},
   "source": [
    "```postgresql\n",
    "CREATE TABLE roles (\n",
    "\trole_id SERIAL PRIMARY KEY,\n",
    "\trole_name VARCHAR(100)\n",
    ");\n",
    "\n",
    "SELECT * FROM roles;\n",
    "\n",
    "DROP TABLE roles;  \n",
    "```"
   ]
  },
  {
   "cell_type": "code",
   "execution_count": null,
   "id": "488b8df8-bf89-4cfd-b763-a6c789dcf57c",
   "metadata": {},
   "outputs": [],
   "source": []
  }
 ],
 "metadata": {
  "kernelspec": {
   "display_name": "Python 3 (ipykernel)",
   "language": "python",
   "name": "python3"
  },
  "language_info": {
   "codemirror_mode": {
    "name": "ipython",
    "version": 3
   },
   "file_extension": ".py",
   "mimetype": "text/x-python",
   "name": "python",
   "nbconvert_exporter": "python",
   "pygments_lexer": "ipython3",
   "version": "3.12.5"
  }
 },
 "nbformat": 4,
 "nbformat_minor": 5
}
